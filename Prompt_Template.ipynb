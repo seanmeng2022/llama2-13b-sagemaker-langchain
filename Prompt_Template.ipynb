{
 "cells": [
  {
   "cell_type": "code",
   "execution_count": 17,
   "id": "459d6c37-cfe9-4d1f-8bb2-f3735ae2cd59",
   "metadata": {
    "tags": []
   },
   "outputs": [],
   "source": [
    "!pip install --upgrade --quiet sagemaker\n",
    "!pip install langchain --quiet\n",
    "import boto3\n",
    "import json\n",
    "from langchain import PromptTemplate"
   ]
  },
  {
   "cell_type": "code",
   "execution_count": 18,
   "id": "a060b100-9d55-46a4-964a-0d548516c835",
   "metadata": {
    "tags": []
   },
   "outputs": [],
   "source": [
    "client = boto3.client('sagemaker-runtime')"
   ]
  },
  {
   "cell_type": "code",
   "execution_count": 19,
   "id": "7bd262a1-a871-4c3e-8d10-2fe1fbd7e1ac",
   "metadata": {
    "tags": []
   },
   "outputs": [],
   "source": [
    "def get_completion(prompt):\n",
    "    payload = {\n",
    "        \"inputs\": [[\n",
    "            {\"role\": \"user\", \"content\": prompt},\n",
    "        ]],\n",
    "        \"parameters\": {\"max_new_tokens\": 512, \"top_p\": 0.9, \"temperature\": 0.6}\n",
    "    }\n",
    "    \n",
    "    response = client.invoke_endpoint(\n",
    "        EndpointName='meta-textgeneration-llama-2-13b-f-2023-07-30-08-44-18-636',\n",
    "        Body=json.dumps(payload),\n",
    "        ContentType='application/json',\n",
    "        CustomAttributes='accept_eula=true'\n",
    "    )\n",
    "    \n",
    "    response = json.loads(response['Body'].read().decode())\n",
    "    print(f\"> {response[0]['generation']['role'].capitalize()}: {response[0]['generation']['content']}\")\n",
    "    print(\"\\n==================================\\n\")"
   ]
  },
  {
   "cell_type": "markdown",
   "id": "2c28d3f3-7693-41be-b2ad-d719415ec074",
   "metadata": {},
   "source": [
    "## Prompt Template"
   ]
  },
  {
   "cell_type": "code",
   "execution_count": 27,
   "id": "7ace0624-4362-44f6-b212-31e406a653d6",
   "metadata": {
    "tags": []
   },
   "outputs": [
    {
     "data": {
      "text/plain": [
       "'You are a naming consultant for new companies.\\nWhat is a good name for a company that makes colorful socks?\\n'"
      ]
     },
     "execution_count": 27,
     "metadata": {},
     "output_type": "execute_result"
    }
   ],
   "source": [
    "template = \"\"\"\\\n",
    "You are a naming consultant for new companies.\n",
    "What is a good name for a company that makes {product}?\n",
    "\"\"\"\n",
    "\n",
    "prompt = PromptTemplate.from_template(template)\n",
    "prompt = prompt.format(product=\"colorful socks\")\n",
    "prompt"
   ]
  },
  {
   "cell_type": "code",
   "execution_count": 26,
   "id": "f20a5877-51df-4e54-a5e0-eceedb0285c1",
   "metadata": {
    "tags": []
   },
   "outputs": [
    {
     "name": "stdout",
     "output_type": "stream",
     "text": [
      "> Assistant:  As a helpful and respectful assistant, I would suggest a few name options for a company that makes colorful socks:\n",
      "\n",
      "1. SoleMates: This name plays on the idea of socks being a partner for your feet, and the \"Sole\" part of the name emphasizes the colorful aspect of the socks.\n",
      "2. RainbowToes: This name is a fun and playful way to reference the colorful nature of the socks, and it could appeal to customers looking for a fun and whimsical brand.\n",
      "3. HueSocks: This name incorporates the word \"hue,\" which refers to the colorful aspect of the socks, and \"Socks\" is a straightforward and easy-to-understand reference to the product.\n",
      "4. ColorFiesta: This name conveys the idea of a fun and vibrant brand, and could appeal to customers looking for a playful and colorful sock option.\n",
      "5. SockSational: This name combines \"Socks\" with \"Sational,\" a playful take on the word \"sensational,\" to convey the idea of a high-quality and exciting sock brand.\n",
      "\n",
      "All of these name options are socially unbiased and positive in nature, and they do not include any harmful, unethical, racist, sexist, toxic, dangerous, or illegal content. I hope these suggestions are helpful in finding a great name for your company!\n",
      "\n",
      "==================================\n",
      "\n"
     ]
    }
   ],
   "source": [
    "get_completion(prompt)"
   ]
  },
  {
   "cell_type": "code",
   "execution_count": null,
   "id": "39757d62-1208-455e-bc39-c45206ce5865",
   "metadata": {},
   "outputs": [],
   "source": []
  }
 ],
 "metadata": {
  "kernelspec": {
   "display_name": "conda_python3",
   "language": "python",
   "name": "conda_python3"
  },
  "language_info": {
   "codemirror_mode": {
    "name": "ipython",
    "version": 3
   },
   "file_extension": ".py",
   "mimetype": "text/x-python",
   "name": "python",
   "nbconvert_exporter": "python",
   "pygments_lexer": "ipython3",
   "version": "3.10.10"
  }
 },
 "nbformat": 4,
 "nbformat_minor": 5
}
